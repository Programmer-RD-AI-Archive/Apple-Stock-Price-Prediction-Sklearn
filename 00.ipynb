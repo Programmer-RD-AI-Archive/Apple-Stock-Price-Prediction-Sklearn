{
 "cells": [
  {
   "cell_type": "code",
   "execution_count": 1,
   "id": "8f342c99-9cba-45da-83d6-577fb83b7cf2",
   "metadata": {},
   "outputs": [
    {
     "data": {
      "text/plain": [
       "<torch._C.Generator at 0x7f34afaf9890>"
      ]
     },
     "execution_count": 1,
     "metadata": {},
     "output_type": "execute_result"
    }
   ],
   "source": [
    "import random\n",
    "import seaborn as sns\n",
    "import pandas as pd\n",
    "import numpy as np\n",
    "import matplotlib.pyplot as plt\n",
    "import sklearn\n",
    "import torch,torchvision\n",
    "from torch.nn import *\n",
    "from tqdm import tqdm\n",
    "import cv2\n",
    "from torch.optim import *\n",
    "# Preproccessing\n",
    "from sklearn.preprocessing import (\n",
    "    StandardScaler,\n",
    "    RobustScaler,\n",
    "    MinMaxScaler,\n",
    "    MaxAbsScaler,\n",
    "    OneHotEncoder,\n",
    "    Normalizer,\n",
    "    Binarizer\n",
    ")\n",
    "# Models\n",
    "from sklearn.neighbors import KNeighborsRegressor\n",
    "from sklearn.linear_model import LogisticRegression,LogisticRegressionCV\n",
    "from sklearn.naive_bayes import GaussianNB\n",
    "from sklearn.tree import DecisionTreeRegressor\n",
    "from sklearn.ensemble import GradientBoostingRegressor,AdaBoostRegressor,VotingRegressor,BaggingRegressor,RandomForestRegressor\n",
    "from sklearn.svm import SVR\n",
    "from sklearn.ensemble import BaggingRegressor\n",
    "from sklearn.ensemble import ExtraTreesRegressor\n",
    "from catboost import CatBoost,CatBoostRegressor\n",
    "from xgboost import XGBRegressor,XGBRFRegressor\n",
    "from flaml import AutoML\n",
    "# Decomposition\n",
    "from sklearn.decomposition import PCA\n",
    "from sklearn.decomposition import KernelPCA\n",
    "# Feature Selection\n",
    "from sklearn.feature_selection import VarianceThreshold\n",
    "from sklearn.feature_selection import SelectKBest\n",
    "from sklearn.feature_selection import RFECV\n",
    "from sklearn.feature_selection import SelectFromModel\n",
    "# Model Eval\n",
    "from sklearn.compose import make_column_transformer\n",
    "from sklearn.model_selection import GridSearchCV\n",
    "from sklearn.model_selection import cross_val_score,train_test_split\n",
    "from sklearn.metrics import mean_absolute_error,mean_squared_error\n",
    "# Other\n",
    "import pickle\n",
    "import wandb\n",
    "\n",
    "PROJECT_NAME = 'Apple-Stock-Price-Prediction-Sklearn'\n",
    "device = 'cuda:0'\n",
    "np.random.seed(21)\n",
    "random.seed(21)\n",
    "torch.manual_seed(21)"
   ]
  },
  {
   "cell_type": "code",
   "execution_count": 2,
   "id": "59362edf-479a-4e12-98cb-4d8ae1ba15f0",
   "metadata": {},
   "outputs": [],
   "source": [
    "def valid(model,X,y,valid=False):\n",
    "    preds = model.predict(X)\n",
    "    if valid is True:\n",
    "        results = {\n",
    "            'MAE':mean_absolute_error(y_pred=preds,y_true=y),\n",
    "            'MSE':mean_squared_error(y_pred=preds,y_true=y)\n",
    "        }\n",
    "    else:\n",
    "        results = {\n",
    "            'Val MAE':mean_absolute_error(y_pred=preds,y_true=y),\n",
    "            'Val MSE':mean_squared_error(y_pred=preds,y_true=y)\n",
    "        }\n",
    "    return results\n",
    "def train(model,X_train,X_test,y_train,y_test,name):\n",
    "    y_train = np.array(y_train)\n",
    "    y_test = np.array(y_test)\n",
    "    X_train = np.array(X_train)\n",
    "    X_test = np.array(X_test)\n",
    "    wandb.init(project=PROJECT_NAME,name=name)\n",
    "    model.fit(X_train.reshape(-1,1),y_train.reshape(-1,1))\n",
    "    wandb.log(valid(model,X_train.reshape(-1,1),y_train.reshape(-1,1),True))\n",
    "    wandb.log(valid(model,X_test.reshape(-1,1),y_test.reshape(-1,1),False))\n",
    "    pickle.dump(model,open(f'./models/{name}.pkl','wb'))\n",
    "    wandb.finish()\n",
    "    return model"
   ]
  },
  {
   "cell_type": "code",
   "execution_count": 3,
   "id": "90d03a35-6d4e-4c48-8a63-5c49bc958e8d",
   "metadata": {},
   "outputs": [],
   "source": [
    "data = pd.read_csv('./data/data.csv')"
   ]
  },
  {
   "cell_type": "code",
   "execution_count": 4,
   "id": "2abe4097-e9ed-4f02-a7e9-e5b24cdc4fbd",
   "metadata": {},
   "outputs": [],
   "source": [
    "X = data['Date']"
   ]
  },
  {
   "cell_type": "code",
   "execution_count": 5,
   "id": "6bc5e6e9-72fa-4dd0-ba8e-877cc9060a82",
   "metadata": {},
   "outputs": [],
   "source": [
    "y = data['Open']"
   ]
  },
  {
   "cell_type": "code",
   "execution_count": 6,
   "id": "0f6cd03d-16ab-43df-871a-0ec29067963b",
   "metadata": {},
   "outputs": [],
   "source": [
    "preprocessings = (\n",
    "#     StandardScaler,\n",
    "#     RobustScaler,\n",
    "#     MinMaxScaler,\n",
    "#     MaxAbsScaler,\n",
    "    Normalizer,\n",
    "    Binarizer\n",
    ")"
   ]
  },
  {
   "cell_type": "code",
   "execution_count": 7,
   "id": "2c110718-c73b-4e13-947f-6d6f597938fa",
   "metadata": {},
   "outputs": [],
   "source": [
    "\n",
    "decompositions = (\n",
    "    PCA,\n",
    "    KernelPCA\n",
    ")"
   ]
  },
  {
   "cell_type": "code",
   "execution_count": 8,
   "id": "250c4734-4d93-446f-bfe0-4ceb35fe32bf",
   "metadata": {},
   "outputs": [],
   "source": [
    "feature_selections = (\n",
    "    VarianceThreshold,\n",
    "    SelectKBest,\n",
    ")"
   ]
  },
  {
   "cell_type": "code",
   "execution_count": 9,
   "id": "c588e2b0-00b5-41af-adef-081c640e3184",
   "metadata": {},
   "outputs": [],
   "source": [
    "models = [\n",
    "    ['KNeighborsRegressor',KNeighborsRegressor],\n",
    "    ['LogisticRegression',LogisticRegression],\n",
    "    ['LogisticRegressionCV',LogisticRegressionCV],\n",
    "    ['DecisionTreeRegressor',DecisionTreeRegressor],\n",
    "    ['GradientBoostingRegressor',GradientBoostingRegressor],\n",
    "    ['AdaBoostRegressor',AdaBoostRegressor],\n",
    "    ['RandomForestRegressor',RandomForestRegressor],\n",
    "    ['BaggingRegressor',BaggingRegressor],\n",
    "    ['GaussianNB',GaussianNB],\n",
    "    ['ExtraTreesRegressor',ExtraTreesRegressor],\n",
    "    ['CatBoost',CatBoost],\n",
    "    ['CatBoostRegressor',CatBoostRegressor],\n",
    "    ['XGBRegressor',XGBRegressor],\n",
    "    ['XGBRFRegressor',XGBRFRegressor],\n",
    "    ['ExtraTreesRegressor',ExtraTreesRegressor],\n",
    "]"
   ]
  },
  {
   "cell_type": "code",
   "execution_count": 10,
   "id": "180a208d-b9a4-400f-85e4-8365c2a67b85",
   "metadata": {},
   "outputs": [],
   "source": [
    "new_X = []\n",
    "for X_batch in X:\n",
    "    X_batch = X_batch.split('-')\n",
    "    X_batch = f'{X_batch[0]}{X_batch[1]}{X_batch[2]}'\n",
    "    X_batch = int(X_batch)\n",
    "    new_X.append(X_batch)"
   ]
  },
  {
   "cell_type": "code",
   "execution_count": 11,
   "id": "8f61ddfc-3176-49e3-8646-c56613a18d10",
   "metadata": {},
   "outputs": [],
   "source": [
    "X = pd.DataFrame(new_X,columns=['Date'])['Date']"
   ]
  },
  {
   "cell_type": "code",
   "execution_count": 12,
   "id": "4f59dd07-a7b4-418a-a953-c846152aa58b",
   "metadata": {},
   "outputs": [],
   "source": [
    "X_train,X_test,y_train,y_test = train_test_split(X,y,test_size=0.125,shuffle=False)"
   ]
  },
  {
   "cell_type": "code",
   "execution_count": 13,
   "id": "3144ae15-613f-4879-ab66-8c9d16d0050e",
   "metadata": {},
   "outputs": [],
   "source": [
    "X_train_old = X_train.copy()\n",
    "X_test_old = X_test.copy()"
   ]
  },
  {
   "cell_type": "code",
   "execution_count": 14,
   "id": "6550a678-82e7-48b7-8fe1-efd83ef5129e",
   "metadata": {},
   "outputs": [],
   "source": [
    "# train(GradientBoostingRegressor(),X_train,X_test,y_train,y_test,name='baseline')"
   ]
  },
  {
   "cell_type": "code",
   "execution_count": 15,
   "id": "5f0ede67-9634-499c-9873-909dbf3949d6",
   "metadata": {},
   "outputs": [],
   "source": [
    "# for preprocessing in preprocessings:\n",
    "#     X_train = X_train_old.copy()\n",
    "#     X_test = X_test_old.copy()\n",
    "#     X_train = np.array(X_train)\n",
    "#     X_test = np.array(X_test)\n",
    "#     preprocessing = preprocessing()\n",
    "#     X_train = preprocessing.fit_transform(X_train.reshape(-1,1))\n",
    "#     X_test = preprocessing.transform(X_test.reshape(-1,1))\n",
    "#     train(GradientBoostingRegressor(),X_train,X_test,y_train,y_test,name=f'{preprocessing}-preprocessing')"
   ]
  },
  {
   "cell_type": "code",
   "execution_count": 16,
   "id": "ef00a230-3d5e-4243-a2b1-dd9b49411a2c",
   "metadata": {},
   "outputs": [],
   "source": [
    "# for decomposition in decompositions:\n",
    "#     X_train = X_train_old.copy()\n",
    "#     X_test = X_test_old.copy()\n",
    "#     X_train = np.array(X_train)\n",
    "#     X_test = np.array(X_test)\n",
    "#     decomposition = decomposition()\n",
    "#     X_train = decomposition.fit_transform(X_train.reshape(-1,1))\n",
    "#     X_test = decomposition.transform(X_test.reshape(-1,1))\n",
    "#     train(GradientBoostingRegressor(),X_train,X_test,y_train,y_test,name=f'{decomposition}-decomposition')"
   ]
  },
  {
   "cell_type": "code",
   "execution_count": 17,
   "id": "167a534a-5111-40c8-866d-65c30e0a85a6",
   "metadata": {},
   "outputs": [],
   "source": [
    "# for feature_selection in feature_selections:\n",
    "#     X_train = X_train_old.copy()\n",
    "#     X_test = X_test_old.copy()\n",
    "#     X_train = np.array(X_train)\n",
    "#     X_test = np.array(X_test)\n",
    "#     y_train = np.array(y_train)\n",
    "#     y_test = np.array(y_test)\n",
    "#     feature_selection = feature_selection()\n",
    "#     try:\n",
    "#         X_train = feature_selection.fit_transform(X_train.reshape(-1,1))\n",
    "#         X_test = feature_selection.transform(X_test.reshape(-1,1))\n",
    "#     except:\n",
    "#         X_train = feature_selection.fit_transform(X_train.reshape(-1,1),y_train.reshape(-1,1))\n",
    "#         X_test = feature_selection.transform(X_test.reshape(-1,1),y_test.reshape(-1,1))\n",
    "#     train(GradientBoostingRegressor(),X_train,X_test,y_train,y_test,name=f'{feature_selection}-feature_selection')"
   ]
  },
  {
   "cell_type": "code",
   "execution_count": null,
   "id": "54248bf8-4fbf-47a5-99f9-cb5c42338164",
   "metadata": {},
   "outputs": [],
   "source": []
  },
  {
   "cell_type": "code",
   "execution_count": 18,
   "id": "33e98fbc-f491-41c2-9f3b-0a2cdd2d11eb",
   "metadata": {},
   "outputs": [
    {
     "name": "stderr",
     "output_type": "stream",
     "text": [
      "\u001b[34m\u001b[1mwandb\u001b[0m: Currently logged in as: \u001b[33mranuga-d\u001b[0m (use `wandb login --relogin` to force relogin)\n",
      "\u001b[34m\u001b[1mwandb\u001b[0m: wandb version 0.12.1 is available!  To upgrade, please run:\n",
      "\u001b[34m\u001b[1mwandb\u001b[0m:  $ pip install wandb --upgrade\n"
     ]
    },
    {
     "data": {
      "text/html": [
       "\n",
       "                Tracking run with wandb version 0.12.0<br/>\n",
       "                Syncing run <strong style=\"color:#cdcd00\">KNeighborsRegressor-model</strong> to <a href=\"https://wandb.ai\" target=\"_blank\">Weights & Biases</a> <a href=\"https://docs.wandb.com/integrations/jupyter.html\" target=\"_blank\">(Documentation)</a>.<br/>\n",
       "                Project page: <a href=\"https://wandb.ai/ranuga-d/Apple-Stock-Price-Prediction-Sklearn\" target=\"_blank\">https://wandb.ai/ranuga-d/Apple-Stock-Price-Prediction-Sklearn</a><br/>\n",
       "                Run page: <a href=\"https://wandb.ai/ranuga-d/Apple-Stock-Price-Prediction-Sklearn/runs/2cwwvyqh\" target=\"_blank\">https://wandb.ai/ranuga-d/Apple-Stock-Price-Prediction-Sklearn/runs/2cwwvyqh</a><br/>\n",
       "                Run data is saved locally in <code>/home/indika/Programming/Projects/Python/Artifical-Intelligence/Sklearn/Regression/Apple-Stock-Price-Prediction/wandb/run-20210827_133648-2cwwvyqh</code><br/><br/>\n",
       "            "
      ],
      "text/plain": [
       "<IPython.core.display.HTML object>"
      ]
     },
     "metadata": {},
     "output_type": "display_data"
    },
    {
     "data": {
      "text/html": [
       "<br/>Waiting for W&B process to finish, PID 300825<br/>Program ended successfully."
      ],
      "text/plain": [
       "<IPython.core.display.HTML object>"
      ]
     },
     "metadata": {},
     "output_type": "display_data"
    },
    {
     "data": {
      "application/vnd.jupyter.widget-view+json": {
       "model_id": "",
       "version_major": 2,
       "version_minor": 0
      },
      "text/plain": [
       "VBox(children=(Label(value=' 0.03MB of 0.03MB uploaded (0.00MB deduped)\\r'), FloatProgress(value=1.0, max=1.0)…"
      ]
     },
     "metadata": {},
     "output_type": "display_data"
    },
    {
     "data": {
      "text/html": [
       "Find user logs for this run at: <code>/home/indika/Programming/Projects/Python/Artifical-Intelligence/Sklearn/Regression/Apple-Stock-Price-Prediction/wandb/run-20210827_133648-2cwwvyqh/logs/debug.log</code>"
      ],
      "text/plain": [
       "<IPython.core.display.HTML object>"
      ]
     },
     "metadata": {},
     "output_type": "display_data"
    },
    {
     "data": {
      "text/html": [
       "Find internal logs for this run at: <code>/home/indika/Programming/Projects/Python/Artifical-Intelligence/Sklearn/Regression/Apple-Stock-Price-Prediction/wandb/run-20210827_133648-2cwwvyqh/logs/debug-internal.log</code>"
      ],
      "text/plain": [
       "<IPython.core.display.HTML object>"
      ]
     },
     "metadata": {},
     "output_type": "display_data"
    },
    {
     "data": {
      "text/html": [
       "<h3>Run summary:</h3><br/><style>\n",
       "    table.wandb td:nth-child(1) { padding: 0 10px; text-align: right }\n",
       "    </style><table class=\"wandb\">\n",
       "<tr><td>MAE</td><td>0.6112</td></tr><tr><td>MSE</td><td>1.16444</td></tr><tr><td>_runtime</td><td>15</td></tr><tr><td>_timestamp</td><td>1630051623</td></tr><tr><td>_step</td><td>1</td></tr><tr><td>Val MAE</td><td>7.38605</td></tr><tr><td>Val MSE</td><td>75.57354</td></tr></table>"
      ],
      "text/plain": [
       "<IPython.core.display.HTML object>"
      ]
     },
     "metadata": {},
     "output_type": "display_data"
    },
    {
     "data": {
      "text/html": [
       "<h3>Run history:</h3><br/><style>\n",
       "    table.wandb td:nth-child(1) { padding: 0 10px; text-align: right }\n",
       "    </style><table class=\"wandb\">\n",
       "<tr><td>MAE</td><td>▁</td></tr><tr><td>MSE</td><td>▁</td></tr><tr><td>_runtime</td><td>▁▁</td></tr><tr><td>_timestamp</td><td>▁▁</td></tr><tr><td>_step</td><td>▁█</td></tr><tr><td>Val MAE</td><td>▁</td></tr><tr><td>Val MSE</td><td>▁</td></tr></table><br/>"
      ],
      "text/plain": [
       "<IPython.core.display.HTML object>"
      ]
     },
     "metadata": {},
     "output_type": "display_data"
    },
    {
     "data": {
      "text/html": [
       "Synced 5 W&B file(s), 0 media file(s), 2 artifact file(s) and 1 other file(s)"
      ],
      "text/plain": [
       "<IPython.core.display.HTML object>"
      ]
     },
     "metadata": {},
     "output_type": "display_data"
    },
    {
     "data": {
      "text/html": [
       "\n",
       "                    <br/>Synced <strong style=\"color:#cdcd00\">KNeighborsRegressor-model</strong>: <a href=\"https://wandb.ai/ranuga-d/Apple-Stock-Price-Prediction-Sklearn/runs/2cwwvyqh\" target=\"_blank\">https://wandb.ai/ranuga-d/Apple-Stock-Price-Prediction-Sklearn/runs/2cwwvyqh</a><br/>\n",
       "                "
      ],
      "text/plain": [
       "<IPython.core.display.HTML object>"
      ]
     },
     "metadata": {},
     "output_type": "display_data"
    },
    {
     "name": "stderr",
     "output_type": "stream",
     "text": [
      "\u001b[34m\u001b[1mwandb\u001b[0m: wandb version 0.12.1 is available!  To upgrade, please run:\n",
      "\u001b[34m\u001b[1mwandb\u001b[0m:  $ pip install wandb --upgrade\n"
     ]
    },
    {
     "data": {
      "text/html": [
       "\n",
       "                Tracking run with wandb version 0.12.0<br/>\n",
       "                Syncing run <strong style=\"color:#cdcd00\">LogisticRegression-model</strong> to <a href=\"https://wandb.ai\" target=\"_blank\">Weights & Biases</a> <a href=\"https://docs.wandb.com/integrations/jupyter.html\" target=\"_blank\">(Documentation)</a>.<br/>\n",
       "                Project page: <a href=\"https://wandb.ai/ranuga-d/Apple-Stock-Price-Prediction-Sklearn\" target=\"_blank\">https://wandb.ai/ranuga-d/Apple-Stock-Price-Prediction-Sklearn</a><br/>\n",
       "                Run page: <a href=\"https://wandb.ai/ranuga-d/Apple-Stock-Price-Prediction-Sklearn/runs/1fzldg7k\" target=\"_blank\">https://wandb.ai/ranuga-d/Apple-Stock-Price-Prediction-Sklearn/runs/1fzldg7k</a><br/>\n",
       "                Run data is saved locally in <code>/home/indika/Programming/Projects/Python/Artifical-Intelligence/Sklearn/Regression/Apple-Stock-Price-Prediction/wandb/run-20210827_133719-1fzldg7k</code><br/><br/>\n",
       "            "
      ],
      "text/plain": [
       "<IPython.core.display.HTML object>"
      ]
     },
     "metadata": {},
     "output_type": "display_data"
    },
    {
     "name": "stderr",
     "output_type": "stream",
     "text": [
      "/home/indika/anaconda3/lib/python3.7/site-packages/sklearn/utils/validation.py:63: DataConversionWarning: A column-vector y was passed when a 1d array was expected. Please change the shape of y to (n_samples, ), for example using ravel().\n",
      "  return f(*args, **kwargs)\n"
     ]
    },
    {
     "ename": "ValueError",
     "evalue": "Unknown label type: 'continuous'",
     "output_type": "error",
     "traceback": [
      "\u001b[0;31m---------------------------------------------------------------------------\u001b[0m",
      "\u001b[0;31mValueError\u001b[0m                                Traceback (most recent call last)",
      "\u001b[0;32m<ipython-input-18-e43d7115b01a>\u001b[0m in \u001b[0;36m<module>\u001b[0;34m\u001b[0m\n\u001b[1;32m      1\u001b[0m \u001b[0;32mfor\u001b[0m \u001b[0mmodel\u001b[0m \u001b[0;32min\u001b[0m \u001b[0mmodels\u001b[0m\u001b[0;34m:\u001b[0m\u001b[0;34m\u001b[0m\u001b[0;34m\u001b[0m\u001b[0m\n\u001b[0;32m----> 2\u001b[0;31m     \u001b[0mtrain\u001b[0m\u001b[0;34m(\u001b[0m\u001b[0mmodel\u001b[0m\u001b[0;34m[\u001b[0m\u001b[0;36m1\u001b[0m\u001b[0;34m]\u001b[0m\u001b[0;34m(\u001b[0m\u001b[0;34m)\u001b[0m\u001b[0;34m,\u001b[0m\u001b[0mX_train\u001b[0m\u001b[0;34m,\u001b[0m\u001b[0mX_test\u001b[0m\u001b[0;34m,\u001b[0m\u001b[0my_train\u001b[0m\u001b[0;34m,\u001b[0m\u001b[0my_test\u001b[0m\u001b[0;34m,\u001b[0m\u001b[0mname\u001b[0m\u001b[0;34m=\u001b[0m\u001b[0;34mf'{model[0]}-model'\u001b[0m\u001b[0;34m)\u001b[0m\u001b[0;34m\u001b[0m\u001b[0;34m\u001b[0m\u001b[0m\n\u001b[0m",
      "\u001b[0;32m<ipython-input-2-3e624c11af42>\u001b[0m in \u001b[0;36mtrain\u001b[0;34m(model, X_train, X_test, y_train, y_test, name)\u001b[0m\n\u001b[1;32m     18\u001b[0m     \u001b[0mX_test\u001b[0m \u001b[0;34m=\u001b[0m \u001b[0mnp\u001b[0m\u001b[0;34m.\u001b[0m\u001b[0marray\u001b[0m\u001b[0;34m(\u001b[0m\u001b[0mX_test\u001b[0m\u001b[0;34m)\u001b[0m\u001b[0;34m\u001b[0m\u001b[0;34m\u001b[0m\u001b[0m\n\u001b[1;32m     19\u001b[0m     \u001b[0mwandb\u001b[0m\u001b[0;34m.\u001b[0m\u001b[0minit\u001b[0m\u001b[0;34m(\u001b[0m\u001b[0mproject\u001b[0m\u001b[0;34m=\u001b[0m\u001b[0mPROJECT_NAME\u001b[0m\u001b[0;34m,\u001b[0m\u001b[0mname\u001b[0m\u001b[0;34m=\u001b[0m\u001b[0mname\u001b[0m\u001b[0;34m)\u001b[0m\u001b[0;34m\u001b[0m\u001b[0;34m\u001b[0m\u001b[0m\n\u001b[0;32m---> 20\u001b[0;31m     \u001b[0mmodel\u001b[0m\u001b[0;34m.\u001b[0m\u001b[0mfit\u001b[0m\u001b[0;34m(\u001b[0m\u001b[0mX_train\u001b[0m\u001b[0;34m.\u001b[0m\u001b[0mreshape\u001b[0m\u001b[0;34m(\u001b[0m\u001b[0;34m-\u001b[0m\u001b[0;36m1\u001b[0m\u001b[0;34m,\u001b[0m\u001b[0;36m1\u001b[0m\u001b[0;34m)\u001b[0m\u001b[0;34m,\u001b[0m\u001b[0my_train\u001b[0m\u001b[0;34m.\u001b[0m\u001b[0mreshape\u001b[0m\u001b[0;34m(\u001b[0m\u001b[0;34m-\u001b[0m\u001b[0;36m1\u001b[0m\u001b[0;34m,\u001b[0m\u001b[0;36m1\u001b[0m\u001b[0;34m)\u001b[0m\u001b[0;34m)\u001b[0m\u001b[0;34m\u001b[0m\u001b[0;34m\u001b[0m\u001b[0m\n\u001b[0m\u001b[1;32m     21\u001b[0m     \u001b[0mwandb\u001b[0m\u001b[0;34m.\u001b[0m\u001b[0mlog\u001b[0m\u001b[0;34m(\u001b[0m\u001b[0mvalid\u001b[0m\u001b[0;34m(\u001b[0m\u001b[0mmodel\u001b[0m\u001b[0;34m,\u001b[0m\u001b[0mX_train\u001b[0m\u001b[0;34m.\u001b[0m\u001b[0mreshape\u001b[0m\u001b[0;34m(\u001b[0m\u001b[0;34m-\u001b[0m\u001b[0;36m1\u001b[0m\u001b[0;34m,\u001b[0m\u001b[0;36m1\u001b[0m\u001b[0;34m)\u001b[0m\u001b[0;34m,\u001b[0m\u001b[0my_train\u001b[0m\u001b[0;34m.\u001b[0m\u001b[0mreshape\u001b[0m\u001b[0;34m(\u001b[0m\u001b[0;34m-\u001b[0m\u001b[0;36m1\u001b[0m\u001b[0;34m,\u001b[0m\u001b[0;36m1\u001b[0m\u001b[0;34m)\u001b[0m\u001b[0;34m,\u001b[0m\u001b[0;32mTrue\u001b[0m\u001b[0;34m)\u001b[0m\u001b[0;34m)\u001b[0m\u001b[0;34m\u001b[0m\u001b[0;34m\u001b[0m\u001b[0m\n\u001b[1;32m     22\u001b[0m     \u001b[0mwandb\u001b[0m\u001b[0;34m.\u001b[0m\u001b[0mlog\u001b[0m\u001b[0;34m(\u001b[0m\u001b[0mvalid\u001b[0m\u001b[0;34m(\u001b[0m\u001b[0mmodel\u001b[0m\u001b[0;34m,\u001b[0m\u001b[0mX_test\u001b[0m\u001b[0;34m.\u001b[0m\u001b[0mreshape\u001b[0m\u001b[0;34m(\u001b[0m\u001b[0;34m-\u001b[0m\u001b[0;36m1\u001b[0m\u001b[0;34m,\u001b[0m\u001b[0;36m1\u001b[0m\u001b[0;34m)\u001b[0m\u001b[0;34m,\u001b[0m\u001b[0my_test\u001b[0m\u001b[0;34m.\u001b[0m\u001b[0mreshape\u001b[0m\u001b[0;34m(\u001b[0m\u001b[0;34m-\u001b[0m\u001b[0;36m1\u001b[0m\u001b[0;34m,\u001b[0m\u001b[0;36m1\u001b[0m\u001b[0;34m)\u001b[0m\u001b[0;34m,\u001b[0m\u001b[0;32mFalse\u001b[0m\u001b[0;34m)\u001b[0m\u001b[0;34m)\u001b[0m\u001b[0;34m\u001b[0m\u001b[0;34m\u001b[0m\u001b[0m\n",
      "\u001b[0;32m~/anaconda3/lib/python3.7/site-packages/sklearn/linear_model/_logistic.py\u001b[0m in \u001b[0;36mfit\u001b[0;34m(self, X, y, sample_weight)\u001b[0m\n\u001b[1;32m   1345\u001b[0m                                    \u001b[0morder\u001b[0m\u001b[0;34m=\u001b[0m\u001b[0;34m\"C\"\u001b[0m\u001b[0;34m,\u001b[0m\u001b[0;34m\u001b[0m\u001b[0;34m\u001b[0m\u001b[0m\n\u001b[1;32m   1346\u001b[0m                                    accept_large_sparse=solver != 'liblinear')\n\u001b[0;32m-> 1347\u001b[0;31m         \u001b[0mcheck_classification_targets\u001b[0m\u001b[0;34m(\u001b[0m\u001b[0my\u001b[0m\u001b[0;34m)\u001b[0m\u001b[0;34m\u001b[0m\u001b[0;34m\u001b[0m\u001b[0m\n\u001b[0m\u001b[1;32m   1348\u001b[0m         \u001b[0mself\u001b[0m\u001b[0;34m.\u001b[0m\u001b[0mclasses_\u001b[0m \u001b[0;34m=\u001b[0m \u001b[0mnp\u001b[0m\u001b[0;34m.\u001b[0m\u001b[0munique\u001b[0m\u001b[0;34m(\u001b[0m\u001b[0my\u001b[0m\u001b[0;34m)\u001b[0m\u001b[0;34m\u001b[0m\u001b[0;34m\u001b[0m\u001b[0m\n\u001b[1;32m   1349\u001b[0m \u001b[0;34m\u001b[0m\u001b[0m\n",
      "\u001b[0;32m~/anaconda3/lib/python3.7/site-packages/sklearn/utils/multiclass.py\u001b[0m in \u001b[0;36mcheck_classification_targets\u001b[0;34m(y)\u001b[0m\n\u001b[1;32m    181\u001b[0m     if y_type not in ['binary', 'multiclass', 'multiclass-multioutput',\n\u001b[1;32m    182\u001b[0m                       'multilabel-indicator', 'multilabel-sequences']:\n\u001b[0;32m--> 183\u001b[0;31m         \u001b[0;32mraise\u001b[0m \u001b[0mValueError\u001b[0m\u001b[0;34m(\u001b[0m\u001b[0;34m\"Unknown label type: %r\"\u001b[0m \u001b[0;34m%\u001b[0m \u001b[0my_type\u001b[0m\u001b[0;34m)\u001b[0m\u001b[0;34m\u001b[0m\u001b[0;34m\u001b[0m\u001b[0m\n\u001b[0m\u001b[1;32m    184\u001b[0m \u001b[0;34m\u001b[0m\u001b[0m\n\u001b[1;32m    185\u001b[0m \u001b[0;34m\u001b[0m\u001b[0m\n",
      "\u001b[0;31mValueError\u001b[0m: Unknown label type: 'continuous'"
     ]
    }
   ],
   "source": [
    "for model in models:\n",
    "    train(model[1](),X_train,X_test,y_train,y_test,name=f'{model[0]}-model')"
   ]
  },
  {
   "cell_type": "code",
   "execution_count": null,
   "id": "ca8890a9-2ee6-4c95-b6c3-a1df7495f496",
   "metadata": {},
   "outputs": [],
   "source": []
  }
 ],
 "metadata": {
  "kernelspec": {
   "display_name": "Python 3.7.3 64-bit ('base': conda)",
   "language": "python",
   "name": "python373jvsc74a57bd0210f9608a45c0278a93c9e0b10db32a427986ab48cfc0d20c139811eb78c4bbc"
  },
  "language_info": {
   "codemirror_mode": {
    "name": "ipython",
    "version": 3
   },
   "file_extension": ".py",
   "mimetype": "text/x-python",
   "name": "python",
   "nbconvert_exporter": "python",
   "pygments_lexer": "ipython3",
   "version": "3.7.7"
  }
 },
 "nbformat": 4,
 "nbformat_minor": 5
}
